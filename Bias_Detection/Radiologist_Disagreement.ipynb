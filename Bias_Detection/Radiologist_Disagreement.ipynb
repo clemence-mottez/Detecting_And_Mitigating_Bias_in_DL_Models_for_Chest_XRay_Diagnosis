{
 "cells": [
  {
   "cell_type": "markdown",
   "metadata": {},
   "source": [
    "## Radiologists disagreements"
   ]
  },
  {
   "cell_type": "code",
   "execution_count": 1,
   "metadata": {},
   "outputs": [],
   "source": [
    "import pandas as pd\n",
    "import numpy as np"
   ]
  },
  {
   "cell_type": "code",
   "execution_count": 2,
   "metadata": {},
   "outputs": [
    {
     "data": {
      "text/html": [
       "<div>\n",
       "<style scoped>\n",
       "    .dataframe tbody tr th:only-of-type {\n",
       "        vertical-align: middle;\n",
       "    }\n",
       "\n",
       "    .dataframe tbody tr th {\n",
       "        vertical-align: top;\n",
       "    }\n",
       "\n",
       "    .dataframe thead th {\n",
       "        text-align: right;\n",
       "    }\n",
       "</style>\n",
       "<table border=\"1\" class=\"dataframe\">\n",
       "  <thead>\n",
       "    <tr style=\"text-align: right;\">\n",
       "      <th></th>\n",
       "      <th>Study</th>\n",
       "      <th>No Finding</th>\n",
       "      <th>Enlarged Cardiomediastinum</th>\n",
       "      <th>Cardiomegaly</th>\n",
       "      <th>Lung Lesion</th>\n",
       "      <th>Lung Opacity</th>\n",
       "      <th>Edema</th>\n",
       "      <th>Consolidation</th>\n",
       "      <th>Pneumonia</th>\n",
       "      <th>Atelectasis</th>\n",
       "      <th>Pneumothorax</th>\n",
       "      <th>Pleural Effusion</th>\n",
       "      <th>Pleural Other</th>\n",
       "      <th>Fracture</th>\n",
       "      <th>Support Devices</th>\n",
       "    </tr>\n",
       "  </thead>\n",
       "  <tbody>\n",
       "    <tr>\n",
       "      <th>0</th>\n",
       "      <td>CheXpert-v1.0/test/patient64741/study1</td>\n",
       "      <td>0</td>\n",
       "      <td>0</td>\n",
       "      <td>0</td>\n",
       "      <td>0</td>\n",
       "      <td>1</td>\n",
       "      <td>0</td>\n",
       "      <td>1</td>\n",
       "      <td>1</td>\n",
       "      <td>0</td>\n",
       "      <td>0</td>\n",
       "      <td>0</td>\n",
       "      <td>0</td>\n",
       "      <td>0</td>\n",
       "      <td>1</td>\n",
       "    </tr>\n",
       "    <tr>\n",
       "      <th>1</th>\n",
       "      <td>CheXpert-v1.0/test/patient64742/study1</td>\n",
       "      <td>0</td>\n",
       "      <td>0</td>\n",
       "      <td>0</td>\n",
       "      <td>0</td>\n",
       "      <td>1</td>\n",
       "      <td>0</td>\n",
       "      <td>0</td>\n",
       "      <td>0</td>\n",
       "      <td>1</td>\n",
       "      <td>0</td>\n",
       "      <td>0</td>\n",
       "      <td>0</td>\n",
       "      <td>0</td>\n",
       "      <td>0</td>\n",
       "    </tr>\n",
       "    <tr>\n",
       "      <th>2</th>\n",
       "      <td>CheXpert-v1.0/test/patient64743/study1</td>\n",
       "      <td>0</td>\n",
       "      <td>1</td>\n",
       "      <td>1</td>\n",
       "      <td>0</td>\n",
       "      <td>1</td>\n",
       "      <td>1</td>\n",
       "      <td>1</td>\n",
       "      <td>1</td>\n",
       "      <td>1</td>\n",
       "      <td>0</td>\n",
       "      <td>1</td>\n",
       "      <td>0</td>\n",
       "      <td>0</td>\n",
       "      <td>0</td>\n",
       "    </tr>\n",
       "    <tr>\n",
       "      <th>3</th>\n",
       "      <td>CheXpert-v1.0/test/patient64744/study1</td>\n",
       "      <td>1</td>\n",
       "      <td>0</td>\n",
       "      <td>0</td>\n",
       "      <td>0</td>\n",
       "      <td>0</td>\n",
       "      <td>0</td>\n",
       "      <td>0</td>\n",
       "      <td>0</td>\n",
       "      <td>0</td>\n",
       "      <td>0</td>\n",
       "      <td>0</td>\n",
       "      <td>0</td>\n",
       "      <td>0</td>\n",
       "      <td>0</td>\n",
       "    </tr>\n",
       "    <tr>\n",
       "      <th>4</th>\n",
       "      <td>CheXpert-v1.0/test/patient64745/study1</td>\n",
       "      <td>0</td>\n",
       "      <td>0</td>\n",
       "      <td>0</td>\n",
       "      <td>1</td>\n",
       "      <td>1</td>\n",
       "      <td>0</td>\n",
       "      <td>1</td>\n",
       "      <td>0</td>\n",
       "      <td>1</td>\n",
       "      <td>0</td>\n",
       "      <td>1</td>\n",
       "      <td>0</td>\n",
       "      <td>0</td>\n",
       "      <td>0</td>\n",
       "    </tr>\n",
       "  </tbody>\n",
       "</table>\n",
       "</div>"
      ],
      "text/plain": [
       "                                    Study  No Finding  \\\n",
       "0  CheXpert-v1.0/test/patient64741/study1           0   \n",
       "1  CheXpert-v1.0/test/patient64742/study1           0   \n",
       "2  CheXpert-v1.0/test/patient64743/study1           0   \n",
       "3  CheXpert-v1.0/test/patient64744/study1           1   \n",
       "4  CheXpert-v1.0/test/patient64745/study1           0   \n",
       "\n",
       "   Enlarged Cardiomediastinum  Cardiomegaly  Lung Lesion  Lung Opacity  Edema  \\\n",
       "0                           0             0            0             1      0   \n",
       "1                           0             0            0             1      0   \n",
       "2                           1             1            0             1      1   \n",
       "3                           0             0            0             0      0   \n",
       "4                           0             0            1             1      0   \n",
       "\n",
       "   Consolidation  Pneumonia  Atelectasis  Pneumothorax  Pleural Effusion  \\\n",
       "0              1          1            0             0                 0   \n",
       "1              0          0            1             0                 0   \n",
       "2              1          1            1             0                 1   \n",
       "3              0          0            0             0                 0   \n",
       "4              1          0            1             0                 1   \n",
       "\n",
       "   Pleural Other  Fracture  Support Devices  \n",
       "0              0         0                1  \n",
       "1              0         0                0  \n",
       "2              0         0                0  \n",
       "3              0         0                0  \n",
       "4              0         0                0  "
      ]
     },
     "execution_count": 2,
     "metadata": {},
     "output_type": "execute_result"
    }
   ],
   "source": [
    "# 8 radiologist predictions\n",
    "rad1 = pd.read_csv('data/bc1_gt.csv')\n",
    "rad2 = pd.read_csv('data/bc2_gt.csv')\n",
    "rad3 = pd.read_csv('data/bc3_gt.csv')\n",
    "rad4 = pd.read_csv('data/bc4.csv')\n",
    "rad5 = pd.read_csv('data/bc5_gt.csv')\n",
    "rad6 = pd.read_csv('data/bc6.csv')\n",
    "rad7 = pd.read_csv('data/bc7_gt.csv')\n",
    "rad8 = pd.read_csv('data/bc8.csv')\n",
    "\n",
    "df_rad = rad1[['Study']].copy()\n",
    "dfs = [rad1, rad2, rad3, rad5, rad7]\n",
    "dfs = [rad1, rad2, rad3, rad4, rad5, rad6, rad7, rad8]\n",
    "rad1.head()"
   ]
  },
  {
   "cell_type": "code",
   "execution_count": 3,
   "metadata": {},
   "outputs": [],
   "source": [
    "df_rad = dfs[0][['Study']].copy()\n",
    "\n",
    "for col in dfs[0].columns:\n",
    "    if col == 'Study':\n",
    "        continue\n",
    "    col_preds = [df[col].values for df in dfs] \n",
    "    \n",
    "    df_rad[col] = [list(row_preds) for row_preds in zip(*col_preds)]\n"
   ]
  },
  {
   "cell_type": "code",
   "execution_count": 4,
   "metadata": {},
   "outputs": [],
   "source": [
    "def extract_patient_study(value):\n",
    "    parts = value.split('/')\n",
    "    patient = parts[2] \n",
    "    study = parts[3] \n",
    "    return pd.Series([patient, study])\n",
    "\n",
    "df_rad[['patient', 'study']] = df_rad['Study'].apply(extract_patient_study)\n",
    "df_rad.drop('Study', axis=1, inplace=True)\n"
   ]
  },
  {
   "cell_type": "markdown",
   "metadata": {},
   "source": [
    "### Link with demographic information"
   ]
  },
  {
   "cell_type": "code",
   "execution_count": 5,
   "metadata": {},
   "outputs": [],
   "source": [
    "df = pd.read_excel('data/chexpert_subgroups.xlsx')\n",
    "csv_file = 'data/chexpert_subgroups.csv' \n",
    "df.to_csv(csv_file, index=False)\n",
    "df_subgroups = pd.read_csv('data/chexpert_subgroups.csv')"
   ]
  },
  {
   "cell_type": "code",
   "execution_count": 6,
   "metadata": {},
   "outputs": [],
   "source": [
    "df_subgroups.columns = ['patient', 'gender', 'age', 'race', 'etnicity']"
   ]
  },
  {
   "cell_type": "code",
   "execution_count": 7,
   "metadata": {},
   "outputs": [],
   "source": [
    "df_subgroups_labels = pd.merge(df_rad, df_subgroups, on=['patient'], how='inner')"
   ]
  },
  {
   "cell_type": "code",
   "execution_count": 8,
   "metadata": {},
   "outputs": [],
   "source": [
    "df_subgroups_labels = df_subgroups_labels.drop_duplicates(subset='patient', keep='first')\n",
    "df_subgroups_labels = df_subgroups_labels.reset_index(drop=True)"
   ]
  },
  {
   "cell_type": "code",
   "execution_count": 9,
   "metadata": {},
   "outputs": [
    {
     "data": {
      "text/html": [
       "<div>\n",
       "<style scoped>\n",
       "    .dataframe tbody tr th:only-of-type {\n",
       "        vertical-align: middle;\n",
       "    }\n",
       "\n",
       "    .dataframe tbody tr th {\n",
       "        vertical-align: top;\n",
       "    }\n",
       "\n",
       "    .dataframe thead th {\n",
       "        text-align: right;\n",
       "    }\n",
       "</style>\n",
       "<table border=\"1\" class=\"dataframe\">\n",
       "  <thead>\n",
       "    <tr style=\"text-align: right;\">\n",
       "      <th></th>\n",
       "      <th>No Finding</th>\n",
       "      <th>Enlarged Cardiomediastinum</th>\n",
       "      <th>Cardiomegaly</th>\n",
       "      <th>Lung Lesion</th>\n",
       "      <th>Lung Opacity</th>\n",
       "      <th>Edema</th>\n",
       "      <th>Consolidation</th>\n",
       "      <th>Pneumonia</th>\n",
       "      <th>Atelectasis</th>\n",
       "      <th>Pneumothorax</th>\n",
       "      <th>Pleural Effusion</th>\n",
       "      <th>Pleural Other</th>\n",
       "      <th>Fracture</th>\n",
       "      <th>Support Devices</th>\n",
       "      <th>patient</th>\n",
       "      <th>study</th>\n",
       "      <th>gender</th>\n",
       "      <th>age</th>\n",
       "      <th>race</th>\n",
       "      <th>etnicity</th>\n",
       "    </tr>\n",
       "  </thead>\n",
       "  <tbody>\n",
       "    <tr>\n",
       "      <th>0</th>\n",
       "      <td>[0, 0, 0, 0, 0, 0, 0, 0]</td>\n",
       "      <td>[0, 1, 1, 1, 1, 1, 1, 1]</td>\n",
       "      <td>[0, 1, 0, 1, 1, 1, 1, 1]</td>\n",
       "      <td>[0, 0, 0, 0, 0, 0, 0, 0]</td>\n",
       "      <td>[1, 0, 1, 0, 0, 1, 1, 1]</td>\n",
       "      <td>[0, 0, 0, 0, 0, 0, 0, 0]</td>\n",
       "      <td>[1, 0, 0, 0, 0, 0, 0, 0]</td>\n",
       "      <td>[1, 0, 0, 0, 0, 0, 0, 0]</td>\n",
       "      <td>[0, 0, 1, 0, 0, 1, 1, 1]</td>\n",
       "      <td>[0, 0, 0, 0, 0, 0, 0, 0]</td>\n",
       "      <td>[0, 0, 0, 0, 0, 0, 0, 0]</td>\n",
       "      <td>[0, 0, 0, 0, 0, 0, 0, 0]</td>\n",
       "      <td>[0, 0, 0, 0, 0, 0, 0, 0]</td>\n",
       "      <td>[1, 1, 1, 1, 1, 1, 1, 1]</td>\n",
       "      <td>patient64741</td>\n",
       "      <td>study1</td>\n",
       "      <td>Male</td>\n",
       "      <td>57</td>\n",
       "      <td>White</td>\n",
       "      <td>Non-Hispanic/Non-Latino</td>\n",
       "    </tr>\n",
       "    <tr>\n",
       "      <th>1</th>\n",
       "      <td>[0, 0, 0, 0, 0, 0, 0, 0]</td>\n",
       "      <td>[0, 1, 1, 0, 1, 0, 0, 0]</td>\n",
       "      <td>[0, 0, 0, 0, 0, 0, 0, 0]</td>\n",
       "      <td>[0, 0, 0, 0, 0, 0, 1, 0]</td>\n",
       "      <td>[1, 1, 1, 1, 1, 1, 1, 1]</td>\n",
       "      <td>[0, 0, 1, 0, 1, 1, 0, 0]</td>\n",
       "      <td>[0, 0, 0, 0, 0, 0, 0, 0]</td>\n",
       "      <td>[0, 0, 0, 0, 0, 0, 0, 0]</td>\n",
       "      <td>[1, 1, 1, 1, 0, 0, 0, 1]</td>\n",
       "      <td>[0, 0, 0, 0, 0, 0, 0, 0]</td>\n",
       "      <td>[0, 0, 0, 0, 0, 0, 0, 1]</td>\n",
       "      <td>[0, 0, 0, 0, 0, 0, 0, 0]</td>\n",
       "      <td>[0, 0, 0, 0, 0, 0, 0, 0]</td>\n",
       "      <td>[0, 0, 1, 0, 0, 0, 1, 1]</td>\n",
       "      <td>patient64742</td>\n",
       "      <td>study1</td>\n",
       "      <td>Female</td>\n",
       "      <td>69</td>\n",
       "      <td>White</td>\n",
       "      <td>Non-Hispanic/Non-Latino</td>\n",
       "    </tr>\n",
       "    <tr>\n",
       "      <th>2</th>\n",
       "      <td>[0, 0, 0, 0, 0, 0, 0, 0]</td>\n",
       "      <td>[1, 1, 1, 1, 1, 1, 1, 0]</td>\n",
       "      <td>[1, 1, 0, 1, 1, 1, 1, 0]</td>\n",
       "      <td>[0, 0, 0, 0, 0, 0, 0, 0]</td>\n",
       "      <td>[1, 1, 1, 1, 1, 1, 1, 1]</td>\n",
       "      <td>[1, 1, 0, 0, 1, 0, 1, 0]</td>\n",
       "      <td>[1, 0, 1, 1, 0, 1, 0, 0]</td>\n",
       "      <td>[1, 0, 0, 0, 0, 0, 0, 0]</td>\n",
       "      <td>[1, 1, 1, 1, 1, 1, 1, 1]</td>\n",
       "      <td>[0, 0, 0, 0, 0, 0, 0, 0]</td>\n",
       "      <td>[1, 0, 0, 1, 1, 1, 0, 0]</td>\n",
       "      <td>[0, 0, 1, 0, 0, 0, 0, 0]</td>\n",
       "      <td>[0, 0, 0, 0, 0, 0, 1, 0]</td>\n",
       "      <td>[0, 0, 1, 1, 0, 0, 1, 0]</td>\n",
       "      <td>patient64743</td>\n",
       "      <td>study1</td>\n",
       "      <td>Male</td>\n",
       "      <td>88</td>\n",
       "      <td>White, non-Hispanic</td>\n",
       "      <td>Unknown</td>\n",
       "    </tr>\n",
       "    <tr>\n",
       "      <th>3</th>\n",
       "      <td>[1, 1, 0, 0, 0, 0, 0, 0]</td>\n",
       "      <td>[0, 0, 1, 1, 1, 1, 0, 0]</td>\n",
       "      <td>[0, 0, 1, 1, 1, 1, 0, 0]</td>\n",
       "      <td>[0, 0, 0, 0, 0, 0, 0, 0]</td>\n",
       "      <td>[0, 0, 1, 0, 1, 1, 0, 1]</td>\n",
       "      <td>[0, 0, 0, 0, 0, 0, 0, 0]</td>\n",
       "      <td>[0, 0, 0, 0, 0, 0, 0, 0]</td>\n",
       "      <td>[0, 0, 0, 0, 0, 0, 0, 0]</td>\n",
       "      <td>[0, 0, 1, 0, 1, 1, 0, 1]</td>\n",
       "      <td>[0, 0, 0, 0, 0, 0, 0, 0]</td>\n",
       "      <td>[0, 0, 0, 0, 0, 0, 0, 0]</td>\n",
       "      <td>[0, 0, 0, 0, 0, 0, 0, 0]</td>\n",
       "      <td>[0, 0, 0, 0, 0, 0, 0, 0]</td>\n",
       "      <td>[0, 1, 1, 1, 1, 1, 1, 0]</td>\n",
       "      <td>patient64744</td>\n",
       "      <td>study1</td>\n",
       "      <td>Male</td>\n",
       "      <td>57</td>\n",
       "      <td>Other</td>\n",
       "      <td>Hispanic/Latino</td>\n",
       "    </tr>\n",
       "    <tr>\n",
       "      <th>4</th>\n",
       "      <td>[0, 0, 0, 0, 0, 0, 0, 0]</td>\n",
       "      <td>[0, 1, 1, 1, 1, 1, 1, 1]</td>\n",
       "      <td>[0, 1, 0, 1, 1, 1, 1, 1]</td>\n",
       "      <td>[1, 1, 1, 1, 1, 1, 1, 1]</td>\n",
       "      <td>[1, 1, 1, 1, 1, 1, 1, 1]</td>\n",
       "      <td>[0, 0, 0, 0, 0, 0, 0, 0]</td>\n",
       "      <td>[1, 0, 1, 0, 0, 0, 0, 1]</td>\n",
       "      <td>[0, 0, 0, 0, 0, 0, 0, 1]</td>\n",
       "      <td>[1, 1, 1, 1, 0, 0, 0, 1]</td>\n",
       "      <td>[0, 0, 0, 0, 0, 0, 0, 0]</td>\n",
       "      <td>[1, 1, 1, 1, 1, 1, 0, 1]</td>\n",
       "      <td>[0, 0, 1, 0, 0, 0, 1, 0]</td>\n",
       "      <td>[0, 0, 0, 0, 0, 0, 0, 0]</td>\n",
       "      <td>[0, 1, 1, 1, 1, 1, 1, 1]</td>\n",
       "      <td>patient64745</td>\n",
       "      <td>study1</td>\n",
       "      <td>Male</td>\n",
       "      <td>92</td>\n",
       "      <td>White</td>\n",
       "      <td>Non-Hispanic/Non-Latino</td>\n",
       "    </tr>\n",
       "  </tbody>\n",
       "</table>\n",
       "</div>"
      ],
      "text/plain": [
       "                 No Finding Enlarged Cardiomediastinum  \\\n",
       "0  [0, 0, 0, 0, 0, 0, 0, 0]   [0, 1, 1, 1, 1, 1, 1, 1]   \n",
       "1  [0, 0, 0, 0, 0, 0, 0, 0]   [0, 1, 1, 0, 1, 0, 0, 0]   \n",
       "2  [0, 0, 0, 0, 0, 0, 0, 0]   [1, 1, 1, 1, 1, 1, 1, 0]   \n",
       "3  [1, 1, 0, 0, 0, 0, 0, 0]   [0, 0, 1, 1, 1, 1, 0, 0]   \n",
       "4  [0, 0, 0, 0, 0, 0, 0, 0]   [0, 1, 1, 1, 1, 1, 1, 1]   \n",
       "\n",
       "               Cardiomegaly               Lung Lesion  \\\n",
       "0  [0, 1, 0, 1, 1, 1, 1, 1]  [0, 0, 0, 0, 0, 0, 0, 0]   \n",
       "1  [0, 0, 0, 0, 0, 0, 0, 0]  [0, 0, 0, 0, 0, 0, 1, 0]   \n",
       "2  [1, 1, 0, 1, 1, 1, 1, 0]  [0, 0, 0, 0, 0, 0, 0, 0]   \n",
       "3  [0, 0, 1, 1, 1, 1, 0, 0]  [0, 0, 0, 0, 0, 0, 0, 0]   \n",
       "4  [0, 1, 0, 1, 1, 1, 1, 1]  [1, 1, 1, 1, 1, 1, 1, 1]   \n",
       "\n",
       "               Lung Opacity                     Edema  \\\n",
       "0  [1, 0, 1, 0, 0, 1, 1, 1]  [0, 0, 0, 0, 0, 0, 0, 0]   \n",
       "1  [1, 1, 1, 1, 1, 1, 1, 1]  [0, 0, 1, 0, 1, 1, 0, 0]   \n",
       "2  [1, 1, 1, 1, 1, 1, 1, 1]  [1, 1, 0, 0, 1, 0, 1, 0]   \n",
       "3  [0, 0, 1, 0, 1, 1, 0, 1]  [0, 0, 0, 0, 0, 0, 0, 0]   \n",
       "4  [1, 1, 1, 1, 1, 1, 1, 1]  [0, 0, 0, 0, 0, 0, 0, 0]   \n",
       "\n",
       "              Consolidation                 Pneumonia  \\\n",
       "0  [1, 0, 0, 0, 0, 0, 0, 0]  [1, 0, 0, 0, 0, 0, 0, 0]   \n",
       "1  [0, 0, 0, 0, 0, 0, 0, 0]  [0, 0, 0, 0, 0, 0, 0, 0]   \n",
       "2  [1, 0, 1, 1, 0, 1, 0, 0]  [1, 0, 0, 0, 0, 0, 0, 0]   \n",
       "3  [0, 0, 0, 0, 0, 0, 0, 0]  [0, 0, 0, 0, 0, 0, 0, 0]   \n",
       "4  [1, 0, 1, 0, 0, 0, 0, 1]  [0, 0, 0, 0, 0, 0, 0, 1]   \n",
       "\n",
       "                Atelectasis              Pneumothorax  \\\n",
       "0  [0, 0, 1, 0, 0, 1, 1, 1]  [0, 0, 0, 0, 0, 0, 0, 0]   \n",
       "1  [1, 1, 1, 1, 0, 0, 0, 1]  [0, 0, 0, 0, 0, 0, 0, 0]   \n",
       "2  [1, 1, 1, 1, 1, 1, 1, 1]  [0, 0, 0, 0, 0, 0, 0, 0]   \n",
       "3  [0, 0, 1, 0, 1, 1, 0, 1]  [0, 0, 0, 0, 0, 0, 0, 0]   \n",
       "4  [1, 1, 1, 1, 0, 0, 0, 1]  [0, 0, 0, 0, 0, 0, 0, 0]   \n",
       "\n",
       "           Pleural Effusion             Pleural Other  \\\n",
       "0  [0, 0, 0, 0, 0, 0, 0, 0]  [0, 0, 0, 0, 0, 0, 0, 0]   \n",
       "1  [0, 0, 0, 0, 0, 0, 0, 1]  [0, 0, 0, 0, 0, 0, 0, 0]   \n",
       "2  [1, 0, 0, 1, 1, 1, 0, 0]  [0, 0, 1, 0, 0, 0, 0, 0]   \n",
       "3  [0, 0, 0, 0, 0, 0, 0, 0]  [0, 0, 0, 0, 0, 0, 0, 0]   \n",
       "4  [1, 1, 1, 1, 1, 1, 0, 1]  [0, 0, 1, 0, 0, 0, 1, 0]   \n",
       "\n",
       "                   Fracture           Support Devices       patient   study  \\\n",
       "0  [0, 0, 0, 0, 0, 0, 0, 0]  [1, 1, 1, 1, 1, 1, 1, 1]  patient64741  study1   \n",
       "1  [0, 0, 0, 0, 0, 0, 0, 0]  [0, 0, 1, 0, 0, 0, 1, 1]  patient64742  study1   \n",
       "2  [0, 0, 0, 0, 0, 0, 1, 0]  [0, 0, 1, 1, 0, 0, 1, 0]  patient64743  study1   \n",
       "3  [0, 0, 0, 0, 0, 0, 0, 0]  [0, 1, 1, 1, 1, 1, 1, 0]  patient64744  study1   \n",
       "4  [0, 0, 0, 0, 0, 0, 0, 0]  [0, 1, 1, 1, 1, 1, 1, 1]  patient64745  study1   \n",
       "\n",
       "   gender  age                 race                 etnicity  \n",
       "0    Male   57                White  Non-Hispanic/Non-Latino  \n",
       "1  Female   69                White  Non-Hispanic/Non-Latino  \n",
       "2    Male   88  White, non-Hispanic                  Unknown  \n",
       "3    Male   57                Other          Hispanic/Latino  \n",
       "4    Male   92                White  Non-Hispanic/Non-Latino  "
      ]
     },
     "execution_count": 9,
     "metadata": {},
     "output_type": "execute_result"
    }
   ],
   "source": [
    "df_subgroups_labels.head()"
   ]
  },
  {
   "cell_type": "markdown",
   "metadata": {},
   "source": [
    "### Disagreement analysis"
   ]
  },
  {
   "cell_type": "code",
   "execution_count": 10,
   "metadata": {},
   "outputs": [],
   "source": [
    "diseases = ['Enlarged Cardiomediastinum', 'Cardiomegaly',  'Lung Lesion', 'Lung Opacity', 'Edema', 'Consolidation', 'Pneumonia', 'Atelectasis',\n",
    "       'Pneumothorax', 'Pleural Effusion', 'Pleural Other', 'Fracture',\n",
    "       'Support Devices']"
   ]
  },
  {
   "cell_type": "code",
   "execution_count": 11,
   "metadata": {},
   "outputs": [],
   "source": [
    "df_subgroups_labels['age'] = df_subgroups_labels['age'].apply(lambda x: 0 if x < 70 else 1)\n",
    "df_subgroups_labels['race'] = df_subgroups_labels['race'].map({'White': 0, 'White, non-Hispanic': 0, 'Asian': 1, 'Black': 2})\n",
    "df_subgroups_labels['sex'] = df_subgroups_labels['gender'].map({'Male': 0, 'Female': 1})"
   ]
  },
  {
   "cell_type": "code",
   "execution_count": 12,
   "metadata": {},
   "outputs": [],
   "source": [
    "df = df_subgroups_labels.dropna()"
   ]
  },
  {
   "cell_type": "code",
   "execution_count": 13,
   "metadata": {},
   "outputs": [
    {
     "name": "stderr",
     "output_type": "stream",
     "text": [
      "/tmp/ipykernel_749710/2602497011.py:1: SettingWithCopyWarning: \n",
      "A value is trying to be set on a copy of a slice from a DataFrame.\n",
      "Try using .loc[row_indexer,col_indexer] = value instead\n",
      "\n",
      "See the caveats in the documentation: https://pandas.pydata.org/pandas-docs/stable/user_guide/indexing.html#returning-a-view-versus-a-copy\n",
      "  df['race'] = df['race'].astype(int)\n"
     ]
    }
   ],
   "source": [
    "df['race'] = df['race'].astype(int)"
   ]
  },
  {
   "cell_type": "code",
   "execution_count": 14,
   "metadata": {},
   "outputs": [],
   "source": [
    "y_sex = df['sex']\n",
    "y_race = df['race']\n",
    "y_age = df['age']"
   ]
  },
  {
   "cell_type": "markdown",
   "metadata": {},
   "source": [
    "### Dataset info"
   ]
  },
  {
   "cell_type": "code",
   "execution_count": 15,
   "metadata": {},
   "outputs": [
    {
     "name": "stdout",
     "output_type": "stream",
     "text": [
      "sex\n",
      "0    202\n",
      "1    125\n",
      "Name: count, dtype: int64\n",
      "age\n",
      "0    196\n",
      "1    131\n",
      "Name: count, dtype: int64\n",
      "race\n",
      "0    276\n",
      "1     51\n",
      "Name: count, dtype: int64\n"
     ]
    }
   ],
   "source": [
    "print(df['sex'].value_counts())\n",
    "print(df['age'].value_counts())\n",
    "print(df['race'].value_counts())\n"
   ]
  },
  {
   "cell_type": "markdown",
   "metadata": {},
   "source": [
    "### Disagreement according to sex, age and race"
   ]
  },
  {
   "cell_type": "code",
   "execution_count": 16,
   "metadata": {},
   "outputs": [
    {
     "name": "stdout",
     "output_type": "stream",
     "text": [
      "Overall radiologist disagreement (highest → lowest):\n",
      "Enlarged Cardiomediastinum    0.189602\n",
      "Cardiomegaly                  0.182722\n",
      "Atelectasis                   0.176223\n",
      "Lung Opacity                  0.135703\n",
      "Edema                         0.116590\n",
      "Pleural Effusion              0.113150\n",
      "Consolidation                 0.094037\n",
      "Support Devices               0.084862\n",
      "Pneumonia                     0.048930\n",
      "Pleural Other                 0.028287\n",
      "Fracture                      0.019878\n",
      "Lung Lesion                   0.018731\n",
      "Pneumothorax                  0.011468\n",
      "dtype: float64\n",
      "\n",
      "Disagreement by sex:\n",
      "     Enlarged Cardiomediastinum  Cardiomegaly  Lung Lesion  Lung Opacity  \\\n",
      "sex                                                                        \n",
      "0                      0.189975      0.174505     0.017946      0.145421   \n",
      "1                      0.189000      0.196000     0.020000      0.120000   \n",
      "\n",
      "        Edema  Consolidation  Pneumonia  Atelectasis  Pneumothorax  \\\n",
      "sex                                                                  \n",
      "0    0.118812       0.090347    0.04146      0.17203       0.01052   \n",
      "1    0.113000       0.100000    0.06100      0.18300       0.01300   \n",
      "\n",
      "     Pleural Effusion  Pleural Other  Fracture  Support Devices  \n",
      "sex                                                              \n",
      "0            0.113861       0.029703  0.023515         0.081683  \n",
      "1            0.112000       0.026000  0.014000         0.090000  \n"
     ]
    }
   ],
   "source": [
    "\n",
    "def disagreement(votes):\n",
    "    \"\"\"Fraction of raters not in the majority.\"\"\"\n",
    "    counts = pd.Series(votes).value_counts()\n",
    "    maj = counts.max()\n",
    "    return 1 - maj / len(votes)\n",
    "\n",
    "overall = {}\n",
    "for d in diseases:\n",
    "    overall[d] = df[d].apply(disagreement).mean()\n",
    "\n",
    "overall_df = pd.Series(overall).sort_values(ascending=False)\n",
    "print(\"Overall radiologist disagreement (highest → lowest):\")\n",
    "print(overall_df)\n",
    "\n",
    "subgroup_results = {}\n",
    "\n",
    "df_sub = (\n",
    "    df\n",
    "    .groupby('sex')\n",
    "    .apply(\n",
    "        lambda grp: pd.Series({\n",
    "            d: grp[d].apply(disagreement).mean() \n",
    "            for d in diseases\n",
    "        })\n",
    "    )\n",
    ")\n",
    "subgroup_results['sex'] = df_sub\n",
    "\n",
    "print(f\"\\nDisagreement by sex:\")\n",
    "print(df_sub)"
   ]
  },
  {
   "cell_type": "code",
   "execution_count": 17,
   "metadata": {},
   "outputs": [
    {
     "data": {
      "text/plain": [
       "sex\n",
       "0    0.093060\n",
       "1    0.095154\n",
       "dtype: float64"
      ]
     },
     "execution_count": 17,
     "metadata": {},
     "output_type": "execute_result"
    }
   ],
   "source": [
    "df_sub.mean(axis=1)"
   ]
  },
  {
   "cell_type": "code",
   "execution_count": 18,
   "metadata": {},
   "outputs": [
    {
     "name": "stdout",
     "output_type": "stream",
     "text": [
      "\n",
      "Disagreement by age:\n",
      "     Enlarged Cardiomediastinum  Cardiomegaly  Lung Lesion  Lung Opacity  \\\n",
      "age                                                                        \n",
      "0                      0.184949      0.176658     0.015944      0.127551   \n",
      "1                      0.196565      0.191794     0.022901      0.147901   \n",
      "\n",
      "        Edema  Consolidation  Pneumonia  Atelectasis  Pneumothorax  \\\n",
      "age                                                                  \n",
      "0    0.096939       0.079082   0.045281     0.164541      0.014031   \n",
      "1    0.145992       0.116412   0.054389     0.193702      0.007634   \n",
      "\n",
      "     Pleural Effusion  Pleural Other  Fracture  Support Devices  \n",
      "age                                                              \n",
      "0            0.108418       0.023597  0.017857         0.078444  \n",
      "1            0.120229       0.035305  0.022901         0.094466  \n"
     ]
    }
   ],
   "source": [
    "df_sub = (\n",
    "    df\n",
    "    .groupby('age')\n",
    "    .apply(\n",
    "        lambda grp: pd.Series({\n",
    "            d: grp[d].apply(disagreement).mean() \n",
    "            for d in diseases\n",
    "        })\n",
    "    )\n",
    ")\n",
    "subgroup_results['age'] = df_sub\n",
    "\n",
    "print(f\"\\nDisagreement by age:\")\n",
    "print(df_sub)"
   ]
  },
  {
   "cell_type": "code",
   "execution_count": 19,
   "metadata": {},
   "outputs": [
    {
     "data": {
      "text/plain": [
       "age\n",
       "0    0.087176\n",
       "1    0.103861\n",
       "dtype: float64"
      ]
     },
     "execution_count": 19,
     "metadata": {},
     "output_type": "execute_result"
    }
   ],
   "source": [
    "df_sub.mean(axis=1)"
   ]
  },
  {
   "cell_type": "code",
   "execution_count": 20,
   "metadata": {},
   "outputs": [
    {
     "name": "stdout",
     "output_type": "stream",
     "text": [
      "\n",
      "Disagreement by race:\n",
      "      Enlarged Cardiomediastinum  Cardiomegaly  Lung Lesion  Lung Opacity  \\\n",
      "race                                                                        \n",
      "0                       0.191123      0.181612     0.017663      0.143116   \n",
      "1                       0.181373      0.188725     0.024510      0.095588   \n",
      "\n",
      "         Edema  Consolidation  Pneumonia  Atelectasis  Pneumothorax  \\\n",
      "race                                                                  \n",
      "0     0.120924       0.089674   0.043931     0.180707      0.009511   \n",
      "1     0.093137       0.117647   0.075980     0.151961      0.022059   \n",
      "\n",
      "      Pleural Effusion  Pleural Other  Fracture  Support Devices  \n",
      "race                                                              \n",
      "0             0.118207       0.029891  0.022645         0.086051  \n",
      "1             0.085784       0.019608  0.004902         0.078431  \n"
     ]
    }
   ],
   "source": [
    "df_sub = (\n",
    "    df\n",
    "    .groupby('race')\n",
    "    .apply(\n",
    "        lambda grp: pd.Series({\n",
    "            d: grp[d].apply(disagreement).mean() \n",
    "            for d in diseases\n",
    "        })\n",
    "    )\n",
    ")\n",
    "subgroup_results['race'] = df_sub\n",
    "\n",
    "print(f\"\\nDisagreement by race:\")\n",
    "print(df_sub)"
   ]
  },
  {
   "cell_type": "code",
   "execution_count": 21,
   "metadata": {},
   "outputs": [
    {
     "data": {
      "text/plain": [
       "race\n",
       "0    0.095004\n",
       "1    0.087670\n",
       "dtype: float64"
      ]
     },
     "execution_count": 21,
     "metadata": {},
     "output_type": "execute_result"
    }
   ],
   "source": [
    "df_sub.mean(axis=1)"
   ]
  }
 ],
 "metadata": {
  "kernelspec": {
   "display_name": "mitigate-bias",
   "language": "python",
   "name": "python3"
  },
  "language_info": {
   "codemirror_mode": {
    "name": "ipython",
    "version": 3
   },
   "file_extension": ".py",
   "mimetype": "text/x-python",
   "name": "python",
   "nbconvert_exporter": "python",
   "pygments_lexer": "ipython3",
   "version": "3.8.19"
  }
 },
 "nbformat": 4,
 "nbformat_minor": 2
}
